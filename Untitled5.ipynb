{
 "cells": [
  {
   "cell_type": "code",
   "execution_count": 7,
   "id": "80ea45c0",
   "metadata": {},
   "outputs": [
    {
     "name": "stdout",
     "output_type": "stream",
     "text": [
      "36\n"
     ]
    }
   ],
   "source": [
    "l=[2,3,6]\n",
    "s=1\n",
    "for i in l :\n",
    "    s=s*i\n",
    "print (s)\n"
   ]
  },
  {
   "cell_type": "code",
   "execution_count": 34,
   "id": "6986885a",
   "metadata": {},
   "outputs": [
    {
     "name": "stdout",
     "output_type": "stream",
     "text": [
      "[(2, 1), (1, 2), (2, 3), (4, 4), (2, 5)]\n"
     ]
    }
   ],
   "source": [
    "def last(n): return n[-1]\n",
    "\n",
    "def sort_list_last(tuples):\n",
    "  return sorted(tuples, key=last)\n",
    "\n",
    "print(sort_list_last([(2, 5), (1, 2), (4, 4), (2, 3), (2, 1)]))\n"
   ]
  },
  {
   "cell_type": "code",
   "execution_count": 35,
   "id": "aece4c80",
   "metadata": {},
   "outputs": [
    {
     "name": "stdout",
     "output_type": "stream",
     "text": [
      "{'a': 400, 'b': 400}\n"
     ]
    }
   ],
   "source": [
    "d1 = {'a': 100, 'b': 200, 'c':300}\n",
    "d2 = {'a': 300, 'b': 200, 'd':400}\n",
    "d3 = {}\n",
    "for i, j in d1.items():\n",
    "    for x, y in d2.items():\n",
    "        if i == x:\n",
    "            d3[i]=(j+y)\n",
    "print(d3)"
   ]
  },
  {
   "cell_type": "code",
   "execution_count": 38,
   "id": "580d8dec",
   "metadata": {},
   "outputs": [
    {
     "name": "stdout",
     "output_type": "stream",
     "text": [
      " 9\n",
      "{1: 1, 2: 4, 3: 9, 4: 16, 5: 25, 6: 36, 7: 49, 8: 64, 9: 81}\n"
     ]
    }
   ],
   "source": [
    "number = int(input(\" \"))\n",
    "\n",
    "numberDict = {}\n",
    "for i in range(1, number+1):\n",
    "    numberDict[i] = i*i\n",
    "\n",
    "print(numberDict)"
   ]
  },
  {
   "cell_type": "code",
   "execution_count": 3,
   "id": "018f41b6",
   "metadata": {},
   "outputs": [
    {
     "name": "stdout",
     "output_type": "stream",
     "text": [
      "[('item3', '24.5'), ('item2', '15.10'), ('item1', '12.20')]\n"
     ]
    }
   ],
   "source": [
    "list =[('item1', '12.20'), ('item2', '15.10'), ('item3', '24.5')]\n",
    "print( sorted(list, key=lambda x: float(x[1]), reverse=True))\n",
    "\n"
   ]
  },
  {
   "cell_type": "code",
   "execution_count": null,
   "id": "8aa6b6f4",
   "metadata": {},
   "outputs": [],
   "source": []
  },
  {
   "cell_type": "code",
   "execution_count": null,
   "id": "f056001a",
   "metadata": {},
   "outputs": [],
   "source": []
  }
 ],
 "metadata": {
  "kernelspec": {
   "display_name": "Python 3",
   "language": "python",
   "name": "python3"
  },
  "language_info": {
   "codemirror_mode": {
    "name": "ipython",
    "version": 3
   },
   "file_extension": ".py",
   "mimetype": "text/x-python",
   "name": "python",
   "nbconvert_exporter": "python",
   "pygments_lexer": "ipython3",
   "version": "3.8.8"
  }
 },
 "nbformat": 4,
 "nbformat_minor": 5
}
